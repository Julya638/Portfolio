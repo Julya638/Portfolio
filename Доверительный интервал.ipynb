{
  "nbformat": 4,
  "nbformat_minor": 0,
  "metadata": {
    "colab": {
      "name": "Untitled26.ipynb",
      "provenance": []
    },
    "kernelspec": {
      "name": "python3",
      "display_name": "Python 3"
    },
    "language_info": {
      "name": "python"
    }
  },
  "cells": [
    {
      "cell_type": "markdown",
      "source": [
        "Задание № 0\n",
        "Найдите минимально необходимый объем выборки для построения интервальной оценки среднего.\n",
        "\n",
        "желаемая точность  Δ  = 3;\n",
        "дисперсия  σ2  = 225;\n",
        "уровень доверия  β  = 0.95.\n",
        "Ответ округлите до целого"
      ],
      "metadata": {
        "id": "egJJFXd5kBI5"
      }
    },
    {
      "cell_type": "code",
      "execution_count": 1,
      "metadata": {
        "colab": {
          "base_uri": "https://localhost:8080/"
        },
        "id": "cndPUU9ej_2e",
        "outputId": "e97eb7e5-adf8-4be6-9cb9-090fdabb850f"
      },
      "outputs": [
        {
          "output_type": "execute_result",
          "data": {
            "text/plain": [
              "0.050000000000000044"
            ]
          },
          "metadata": {},
          "execution_count": 1
        }
      ],
      "source": [
        "a=1-0.95  #находим уровень значимости\n",
        "a\n"
      ]
    },
    {
      "cell_type": "code",
      "source": [
        "1-0.05/2  # высчитываем уровень"
      ],
      "metadata": {
        "colab": {
          "base_uri": "https://localhost:8080/"
        },
        "id": "5z0U8ikRkhzB",
        "outputId": "e921e1f2-ae3d-43bf-8b96-93f064aee03f"
      },
      "execution_count": 2,
      "outputs": [
        {
          "output_type": "execute_result",
          "data": {
            "text/plain": [
              "0.975"
            ]
          },
          "metadata": {},
          "execution_count": 2
        }
      ]
    },
    {
      "cell_type": "code",
      "source": [
        "#теперь в таблице находим квантиль уровня 0.975 . Он равен Za= 2.241"
      ],
      "metadata": {
        "id": "aZtVLocEkuZ-"
      },
      "execution_count": null,
      "outputs": []
    },
    {
      "cell_type": "code",
      "source": [
        "n=((2.241*15)/3)*2 # посчитали чему равен минимально необходимый объем выборки для построения интервальной оценки среднего\n",
        "round(n,0)"
      ],
      "metadata": {
        "colab": {
          "base_uri": "https://localhost:8080/"
        },
        "id": "StvBjwQEns91",
        "outputId": "146ec7e8-d340-4db0-fce3-6863f882d728"
      },
      "execution_count": 3,
      "outputs": [
        {
          "output_type": "execute_result",
          "data": {
            "text/plain": [
              "22.0"
            ]
          },
          "metadata": {},
          "execution_count": 3
        }
      ]
    },
    {
      "cell_type": "markdown",
      "source": [
        "Задание № 1\n",
        "Постройте 98% доверительный интервал для среднего значения, если известно, что\n",
        "\n",
        "объем выборки n = 25;\n",
        "среднее значение по выборке  x¯¯¯  = 130;\n",
        "Из достоверных источников известно стандартное отклонение  σ=15 .\n",
        "В ответ укажите длину полученного доверительного интервала (разницу между правым и левым концом), окруленную до целого"
      ],
      "metadata": {
        "id": "7cnQuLMDoY19"
      }
    },
    {
      "cell_type": "code",
      "source": [
        "a=1-0.98 #уровень значимости 0.02\n",
        "a"
      ],
      "metadata": {
        "colab": {
          "base_uri": "https://localhost:8080/"
        },
        "id": "fhDBwZDBofJJ",
        "outputId": "d0e92847-80bc-4b6e-ccb3-7aeec42a5006"
      },
      "execution_count": null,
      "outputs": [
        {
          "output_type": "execute_result",
          "data": {
            "text/plain": [
              "0.020000000000000018"
            ]
          },
          "metadata": {},
          "execution_count": 5
        }
      ]
    },
    {
      "cell_type": "code",
      "source": [
        "1-0.02/2 #уровень"
      ],
      "metadata": {
        "colab": {
          "base_uri": "https://localhost:8080/"
        },
        "id": "JzlPN8CQo3Gi",
        "outputId": "2db04c19-6781-480a-de1f-da3351989ff7"
      },
      "execution_count": null,
      "outputs": [
        {
          "output_type": "execute_result",
          "data": {
            "text/plain": [
              "0.99"
            ]
          },
          "metadata": {},
          "execution_count": 6
        }
      ]
    },
    {
      "cell_type": "code",
      "source": [
        "Za=2.576 # квантиль"
      ],
      "metadata": {
        "id": "spFejVQ3pHAU"
      },
      "execution_count": null,
      "outputs": []
    },
    {
      "cell_type": "code",
      "source": [
        "delta=(15/5)*2.576 # точность\n",
        "delta"
      ],
      "metadata": {
        "colab": {
          "base_uri": "https://localhost:8080/"
        },
        "id": "qKYlMDyPocp7",
        "outputId": "2d3483fc-adf7-4a16-9318-4a223c314699"
      },
      "execution_count": null,
      "outputs": [
        {
          "output_type": "execute_result",
          "data": {
            "text/plain": [
              "7.728"
            ]
          },
          "metadata": {},
          "execution_count": 7
        }
      ]
    },
    {
      "cell_type": "code",
      "source": [
        "(130-7.728), (130+7.728) #доверительный интервал"
      ],
      "metadata": {
        "colab": {
          "base_uri": "https://localhost:8080/"
        },
        "id": "YUCnOAa0pvCE",
        "outputId": "c3c953a2-a5aa-4a99-95c9-0745596e48af"
      },
      "execution_count": null,
      "outputs": [
        {
          "output_type": "execute_result",
          "data": {
            "text/plain": [
              "(122.272, 137.728)"
            ]
          },
          "metadata": {},
          "execution_count": 8
        }
      ]
    },
    {
      "cell_type": "code",
      "source": [
        "round(137.728-122.272,0)# округленно длина доверительного интервала"
      ],
      "metadata": {
        "colab": {
          "base_uri": "https://localhost:8080/"
        },
        "id": "Ltrz1Ac9qLQu",
        "outputId": "98ddd4c8-fbbb-4fd1-c05e-1ca233941196"
      },
      "execution_count": null,
      "outputs": [
        {
          "output_type": "execute_result",
          "data": {
            "text/plain": [
              "15.0"
            ]
          },
          "metadata": {},
          "execution_count": 9
        }
      ]
    },
    {
      "cell_type": "markdown",
      "source": [
        "Задание № 2\n",
        "Даны две выборки роста мужчин и женщин.\n",
        "\n",
        "Докажите, используя t-Тест Стьюдента, что различие между выборками незначительно, если уровень значимости равен  α  = 0.001.\n",
        "Покажите различия визуально"
      ],
      "metadata": {
        "id": "CPHoraqKrBMH"
      }
    },
    {
      "cell_type": "code",
      "source": [
        "import scipy.stats as stats\n",
        "import numpy as np\n",
        "np.random.seed(42) #фиксация случайности\n",
        "\n",
        "mens  = stats.norm.rvs(loc=171, scale=100, size=150000)  # Выборка мужчин со средним ростом 171\n",
        "womens = stats.norm.rvs(loc=170, scale=100, size=150000)  # Выборка женщин со средним ростом 170\n",
        "#В двух строчках выше генерируется две выбороки, где loc это среднее значение, а scale это дисперсия"
      ],
      "metadata": {
        "id": "-MCyx7U2rHct"
      },
      "execution_count": 4,
      "outputs": []
    },
    {
      "cell_type": "code",
      "source": [
        "t, p_value = stats.ttest_ind(mens, womens) #Критерий Стьюдента (t-test)\n",
        "t, p_value"
      ],
      "metadata": {
        "colab": {
          "base_uri": "https://localhost:8080/"
        },
        "id": "z5lsaj39teMb",
        "outputId": "c4fb707b-dd93-4ea9-b99f-867aac2bb4af"
      },
      "execution_count": 5,
      "outputs": [
        {
          "output_type": "execute_result",
          "data": {
            "text/plain": [
              "(3.6635841716708892, 0.00024875321033580573)"
            ]
          },
          "metadata": {},
          "execution_count": 5
        }
      ]
    },
    {
      "cell_type": "markdown",
      "source": [
        "p-value меньше уровня значимости поэтому различия статистически значимы и нулевую гипотезу мы отвергаем , а t показывает насколько есть различия и они неслучайны(насколько отличаются средние)"
      ],
      "metadata": {
        "id": "FktyecrNzO-q"
      }
    },
    {
      "cell_type": "markdown",
      "source": [
        "Задание № 3\n",
        "Определите объем необходимой выборки для исследования среднего чека за кофе в случайном городе если известно, что в этом городе:\n",
        "\n",
        "стандартное отклонение  σ=150 ;\n",
        "уровень доверия  β  = 95%;\n",
        "Погрешность  Δ=50  рублей."
      ],
      "metadata": {
        "id": "aipgurg2qsyt"
      }
    },
    {
      "cell_type": "code",
      "source": [
        "a=0.05 # уровень значимости"
      ],
      "metadata": {
        "id": "aXuNzKbUquks"
      },
      "execution_count": null,
      "outputs": []
    },
    {
      "cell_type": "code",
      "source": [
        "1-(0.05/2) # по таблице квантиль равен 2.241"
      ],
      "metadata": {
        "colab": {
          "base_uri": "https://localhost:8080/"
        },
        "id": "ydeSjS89rG2o",
        "outputId": "405cd51c-092c-4eb2-e75f-2a9d28f64271"
      },
      "execution_count": null,
      "outputs": [
        {
          "output_type": "execute_result",
          "data": {
            "text/plain": [
              "0.975"
            ]
          },
          "metadata": {},
          "execution_count": 1
        }
      ]
    },
    {
      "cell_type": "code",
      "source": [
        "n=(2.241*150/50)*2 #объем необходимой выборки для исследования среднего чека в кафе\n",
        "n"
      ],
      "metadata": {
        "colab": {
          "base_uri": "https://localhost:8080/"
        },
        "id": "av6718wxrfMY",
        "outputId": "6a77c1a1-7ae3-4672-e9bd-a5f7dc6deb4b"
      },
      "execution_count": null,
      "outputs": [
        {
          "output_type": "execute_result",
          "data": {
            "text/plain": [
              "13.446000000000002"
            ]
          },
          "metadata": {},
          "execution_count": 3
        }
      ]
    },
    {
      "cell_type": "markdown",
      "source": [
        "Задание № 4\n",
        "Представьте, что вы хотите разоблачить \"волшебника\" который считает, что умеет предсказывать погоду на завтра, отвечая просто: дождь или солнце. Вы пронаблюдали за ответами \"волшебника\" в течении какого-то периода времени и получили некие результаты (см.ниже).\n",
        "\n",
        "Можно ли сказать, что маг действительно умеет предсказывать погоду? Уровень значимости принять за 0.05 ( α=0.05 )."
      ],
      "metadata": {
        "id": "vw16BDihsK97"
      }
    },
    {
      "cell_type": "code",
      "source": [
        "import pandas as pd\n",
        "observations = pd.DataFrame([[10, 15],[39, 34]],\n",
        "                            index=['Дождь','Солнце'],\n",
        "                            columns=['Верные ответы волшебника','Неверные ответы'])\n",
        "observations"
      ],
      "metadata": {
        "colab": {
          "base_uri": "https://localhost:8080/",
          "height": 112
        },
        "id": "V8j4awYasOvh",
        "outputId": "18058542-6faa-412c-e838-d3b6a04909e4"
      },
      "execution_count": 6,
      "outputs": [
        {
          "output_type": "execute_result",
          "data": {
            "text/plain": [
              "        Верные ответы волшебника  Неверные ответы\n",
              "Дождь                         10               15\n",
              "Солнце                        39               34"
            ],
            "text/html": [
              "\n",
              "  <div id=\"df-a596ff72-8772-42a0-8952-571bd35a3824\">\n",
              "    <div class=\"colab-df-container\">\n",
              "      <div>\n",
              "<style scoped>\n",
              "    .dataframe tbody tr th:only-of-type {\n",
              "        vertical-align: middle;\n",
              "    }\n",
              "\n",
              "    .dataframe tbody tr th {\n",
              "        vertical-align: top;\n",
              "    }\n",
              "\n",
              "    .dataframe thead th {\n",
              "        text-align: right;\n",
              "    }\n",
              "</style>\n",
              "<table border=\"1\" class=\"dataframe\">\n",
              "  <thead>\n",
              "    <tr style=\"text-align: right;\">\n",
              "      <th></th>\n",
              "      <th>Верные ответы волшебника</th>\n",
              "      <th>Неверные ответы</th>\n",
              "    </tr>\n",
              "  </thead>\n",
              "  <tbody>\n",
              "    <tr>\n",
              "      <th>Дождь</th>\n",
              "      <td>10</td>\n",
              "      <td>15</td>\n",
              "    </tr>\n",
              "    <tr>\n",
              "      <th>Солнце</th>\n",
              "      <td>39</td>\n",
              "      <td>34</td>\n",
              "    </tr>\n",
              "  </tbody>\n",
              "</table>\n",
              "</div>\n",
              "      <button class=\"colab-df-convert\" onclick=\"convertToInteractive('df-a596ff72-8772-42a0-8952-571bd35a3824')\"\n",
              "              title=\"Convert this dataframe to an interactive table.\"\n",
              "              style=\"display:none;\">\n",
              "        \n",
              "  <svg xmlns=\"http://www.w3.org/2000/svg\" height=\"24px\"viewBox=\"0 0 24 24\"\n",
              "       width=\"24px\">\n",
              "    <path d=\"M0 0h24v24H0V0z\" fill=\"none\"/>\n",
              "    <path d=\"M18.56 5.44l.94 2.06.94-2.06 2.06-.94-2.06-.94-.94-2.06-.94 2.06-2.06.94zm-11 1L8.5 8.5l.94-2.06 2.06-.94-2.06-.94L8.5 2.5l-.94 2.06-2.06.94zm10 10l.94 2.06.94-2.06 2.06-.94-2.06-.94-.94-2.06-.94 2.06-2.06.94z\"/><path d=\"M17.41 7.96l-1.37-1.37c-.4-.4-.92-.59-1.43-.59-.52 0-1.04.2-1.43.59L10.3 9.45l-7.72 7.72c-.78.78-.78 2.05 0 2.83L4 21.41c.39.39.9.59 1.41.59.51 0 1.02-.2 1.41-.59l7.78-7.78 2.81-2.81c.8-.78.8-2.07 0-2.86zM5.41 20L4 18.59l7.72-7.72 1.47 1.35L5.41 20z\"/>\n",
              "  </svg>\n",
              "      </button>\n",
              "      \n",
              "  <style>\n",
              "    .colab-df-container {\n",
              "      display:flex;\n",
              "      flex-wrap:wrap;\n",
              "      gap: 12px;\n",
              "    }\n",
              "\n",
              "    .colab-df-convert {\n",
              "      background-color: #E8F0FE;\n",
              "      border: none;\n",
              "      border-radius: 50%;\n",
              "      cursor: pointer;\n",
              "      display: none;\n",
              "      fill: #1967D2;\n",
              "      height: 32px;\n",
              "      padding: 0 0 0 0;\n",
              "      width: 32px;\n",
              "    }\n",
              "\n",
              "    .colab-df-convert:hover {\n",
              "      background-color: #E2EBFA;\n",
              "      box-shadow: 0px 1px 2px rgba(60, 64, 67, 0.3), 0px 1px 3px 1px rgba(60, 64, 67, 0.15);\n",
              "      fill: #174EA6;\n",
              "    }\n",
              "\n",
              "    [theme=dark] .colab-df-convert {\n",
              "      background-color: #3B4455;\n",
              "      fill: #D2E3FC;\n",
              "    }\n",
              "\n",
              "    [theme=dark] .colab-df-convert:hover {\n",
              "      background-color: #434B5C;\n",
              "      box-shadow: 0px 1px 3px 1px rgba(0, 0, 0, 0.15);\n",
              "      filter: drop-shadow(0px 1px 2px rgba(0, 0, 0, 0.3));\n",
              "      fill: #FFFFFF;\n",
              "    }\n",
              "  </style>\n",
              "\n",
              "      <script>\n",
              "        const buttonEl =\n",
              "          document.querySelector('#df-a596ff72-8772-42a0-8952-571bd35a3824 button.colab-df-convert');\n",
              "        buttonEl.style.display =\n",
              "          google.colab.kernel.accessAllowed ? 'block' : 'none';\n",
              "\n",
              "        async function convertToInteractive(key) {\n",
              "          const element = document.querySelector('#df-a596ff72-8772-42a0-8952-571bd35a3824');\n",
              "          const dataTable =\n",
              "            await google.colab.kernel.invokeFunction('convertToInteractive',\n",
              "                                                     [key], {});\n",
              "          if (!dataTable) return;\n",
              "\n",
              "          const docLinkHtml = 'Like what you see? Visit the ' +\n",
              "            '<a target=\"_blank\" href=https://colab.research.google.com/notebooks/data_table.ipynb>data table notebook</a>'\n",
              "            + ' to learn more about interactive tables.';\n",
              "          element.innerHTML = '';\n",
              "          dataTable['output_type'] = 'display_data';\n",
              "          await google.colab.output.renderOutput(dataTable, element);\n",
              "          const docLink = document.createElement('div');\n",
              "          docLink.innerHTML = docLinkHtml;\n",
              "          element.appendChild(docLink);\n",
              "        }\n",
              "      </script>\n",
              "    </div>\n",
              "  </div>\n",
              "  "
            ]
          },
          "metadata": {},
          "execution_count": 6
        }
      ]
    },
    {
      "cell_type": "code",
      "source": [
        "import scipy.stats as stats\n",
        "oddsratio, pvalue = stats.fisher_exact(observations)\n",
        "oddsratio, pvalue"
      ],
      "metadata": {
        "colab": {
          "base_uri": "https://localhost:8080/"
        },
        "id": "rbXny7d2sde9",
        "outputId": "f6e5808c-05e2-4110-fdef-131b6099bd75"
      },
      "execution_count": 7,
      "outputs": [
        {
          "output_type": "execute_result",
          "data": {
            "text/plain": [
              "(0.5811965811965812, 0.35417955365927367)"
            ]
          },
          "metadata": {},
          "execution_count": 7
        }
      ]
    },
    {
      "cell_type": "markdown",
      "source": [
        "Вывод: так как p-value больше уровня значимости ,  то нулевую гипотезу не отвергаем . То есть все его предсказания случайны"
      ],
      "metadata": {
        "id": "6oWB-dCat1l-"
      }
    },
    {
      "cell_type": "markdown",
      "source": [
        "Задание № 5\n",
        "Используя функцию mean_confidence_interval(data, confidence), постройте доверительный интервал с уровнем доверия  β=90%  для выборки:"
      ],
      "metadata": {
        "id": "7J4L9hxFuhw0"
      }
    },
    {
      "cell_type": "code",
      "source": [
        "data = [4,5,8,9,6,7,5,6,7,8,5,6,7,0,9,8,4,6,\n",
        "        7,9,8,6,5,7,8,9,6,7,5,8,6,7,9,5,10]"
      ],
      "metadata": {
        "id": "5370HA9WumLO"
      },
      "execution_count": 9,
      "outputs": []
    },
    {
      "cell_type": "code",
      "source": [
        "import numpy as np\n",
        "def mean_confidence_interval(data, confidence=0.90):  #напишем функцию для вычисления среднего и доверительного интервала\n",
        "    n = len(data)\n",
        "    m = np.mean(data)\n",
        "    disp=np.var(data)  \n",
        "    z=1.960  #1-0.1/2 \n",
        "    delta=(disp/n**0.5)*z\n",
        "    return m-delta, m, m+delta "
      ],
      "metadata": {
        "id": "4ewPAHshvXbI"
      },
      "execution_count": 22,
      "outputs": []
    },
    {
      "cell_type": "code",
      "source": [
        "print(mean_confidence_interval(data, 0.90))  # доверительный интервал от 5.4153 до 7.8418"
      ],
      "metadata": {
        "colab": {
          "base_uri": "https://localhost:8080/"
        },
        "id": "X-rlIAvGu88q",
        "outputId": "2b775543-338b-454b-d1eb-3084d8bb5bba"
      },
      "execution_count": 23,
      "outputs": [
        {
          "output_type": "stream",
          "name": "stdout",
          "text": [
            "(5.415335592823549, 6.628571428571429, 7.841807264319309)\n"
          ]
        }
      ]
    },
    {
      "cell_type": "markdown",
      "source": [
        "Задание № 6\n",
        "Принадлежат ли выборки A и B одному множеству?\n",
        "\n",
        "Оцените это с помощью известных вам тестов для проверок статистических гипотез;\n",
        "Покажите различия визуально."
      ],
      "metadata": {
        "id": "9bHf04sewjDq"
      }
    },
    {
      "cell_type": "code",
      "source": [
        "A = [4,5,8,9,6,7,5,6,7,6,8,5,6,7,8,4,\n",
        "    6,7,9,8,6,5,7,8,6,7,5,6,8,6,7,5,\n",
        "    4,5,8,9,6,7,5,6,7,6,8,5,6,7,8,4,\n",
        "    6,7,9,8,6,5,7,8,6,7,5,6,8,6,7,5,\n",
        "    4,5,8,9,6,7,5,6,7,6,8,5,6,7,8,4,\n",
        "    6,7,9,8,6,5,7,8,6,7,5,6,8,6,7,5,\n",
        "    4,5,8,9,6,7,5,6,7,6,8,5,6,7,8,4]\n",
        "\n",
        "B = [5,6,7,8,4,6,7,2,6,5,7,5,3,5,3,\n",
        "    5,3,5,5,8,7,6,4,5,3,5,4,6,4,5,3,\n",
        "    2,6,4,3,5,4,3,4,5,4,3,4,5,4,3,4,\n",
        "    2,6,4,3,5,4,3,4,5,4,3,4,5,4,3,4,\n",
        "    3,4,4,1,2,4,3,2,4,3,2,1,5,3,4,6,\n",
        "    3,2,4,5,6,4,3,3,5,3,4,4,4,2,5,3]"
      ],
      "metadata": {
        "id": "euBH4zU5wpPw"
      },
      "execution_count": 14,
      "outputs": []
    },
    {
      "cell_type": "code",
      "source": [
        "t, p_value = stats.ttest_ind(A, B) #Критерий Стьюдента (t-test)\n",
        "t, p_value"
      ],
      "metadata": {
        "colab": {
          "base_uri": "https://localhost:8080/"
        },
        "id": "pN8Wavbpw0U-",
        "outputId": "bfb67710-666e-44dc-8fbd-f142a8be671d"
      },
      "execution_count": 15,
      "outputs": [
        {
          "output_type": "execute_result",
          "data": {
            "text/plain": [
              "(11.865233896372924, 4.623319592204015e-25)"
            ]
          },
          "metadata": {},
          "execution_count": 15
        }
      ]
    },
    {
      "cell_type": "code",
      "source": [
        "import matplotlib.pyplot as plt\n",
        "plt.hist(B, bins=15);\n",
        "plt.hist(A, bins=15)"
      ],
      "metadata": {
        "colab": {
          "base_uri": "https://localhost:8080/",
          "height": 387
        },
        "id": "nreFk55Ay74A",
        "outputId": "93f3ed50-5eb6-4b43-8f7d-2b021912397a"
      },
      "execution_count": 16,
      "outputs": [
        {
          "output_type": "execute_result",
          "data": {
            "text/plain": [
              "(array([ 8.,  0.,  0., 21.,  0.,  0., 31.,  0.,  0., 24.,  0.,  0., 21.,\n",
              "         0.,  7.]),\n",
              " array([4.        , 4.33333333, 4.66666667, 5.        , 5.33333333,\n",
              "        5.66666667, 6.        , 6.33333333, 6.66666667, 7.        ,\n",
              "        7.33333333, 7.66666667, 8.        , 8.33333333, 8.66666667,\n",
              "        9.        ]),\n",
              " <a list of 15 Patch objects>)"
            ]
          },
          "metadata": {},
          "execution_count": 16
        },
        {
          "output_type": "display_data",
          "data": {
            "text/plain": [
              "<Figure size 432x288 with 1 Axes>"
            ],
            "image/png": "[encoded data removed]"
          },
          "metadata": {
            "needs_background": "light"
          }
        }
      ]
    },
    {
      "cell_type": "code",
      "source": [
        "plt.boxplot(A);\n",
        "plt.boxplot(B);"
      ],
      "metadata": {
        "colab": {
          "base_uri": "https://localhost:8080/",
          "height": 265
        },
        "id": "YiuC0pl3RZJ_",
        "outputId": "1d5d39ef-c18e-476d-fd22-4ed81c8e11ed"
      },
      "execution_count": 17,
      "outputs": [
        {
          "output_type": "display_data",
          "data": {
            "text/plain": [
              "<Figure size 432x288 with 1 Axes>"
            ],
            "image/png": "[encoded data removed]"
          },
          "metadata": {
            "needs_background": "light"
          }
        }
      ]
    },
    {
      "cell_type": "markdown",
      "source": [
        "Вывод: p-value меньше  5% , значит различия статистически значимы и совпадения неслучайны . И по визуализации можно заметить что принадлежат одному множеству[Текст ссылки](https://)"
      ],
      "metadata": {
        "id": "twVNBHzDzd-V"
      }
    },
    {
      "cell_type": "markdown",
      "source": [
        "Задание № 8\n",
        "Первая выборка — это пациенты, которых лечили препаратом А. Вторая выборка — пациенты, которых лечили препаратом B.\n",
        "\n",
        "Значения в выборках — это некоторая характеристика эффективности лечения (уровень метаболита в крови, температура через три дня после начала лечения, срок выздоровления, число койко-дней, и т.д.)\n",
        "\n",
        "Требуется выяснить, имеется ли значимое различие эффективности препаратов А и B, или различия являются чисто случайными и объясняются «естественной» дисперсией выбранной характеристики? (уровень значимости принять за 0.05 (5%))\n",
        "\n",
        "При каком минимальном p-value различия были бы уже значимы?\n",
        "\n",
        "Если выборки незначительно отличаются, то продемонстрируйте это визуально"
      ],
      "metadata": {
        "id": "LhsPoqIj1atM"
      }
    },
    {
      "cell_type": "code",
      "source": [
        "np.random.seed(11)\n",
        "A = stats.norm.rvs(scale=15, loc=169, size=300)\n",
        "B = stats.norm.rvs(scale=14, loc=171.4, size=300)\n",
        "stats.ttest_rel(A, B)"
      ],
      "metadata": {
        "colab": {
          "base_uri": "https://localhost:8080/"
        },
        "id": "wshpOmzR1pOo",
        "outputId": "930316ac-3efd-4344-936a-9a6a4199eac4"
      },
      "execution_count": 18,
      "outputs": [
        {
          "output_type": "execute_result",
          "data": {
            "text/plain": [
              "Ttest_relResult(statistic=-2.0349336314319992, pvalue=0.042739435733033855)"
            ]
          },
          "metadata": {},
          "execution_count": 18
        }
      ]
    },
    {
      "cell_type": "markdown",
      "source": [
        "P-value меньше уровня значимости - можно сказать что имеется значимое различие эффективности препаратов "
      ],
      "metadata": {
        "id": "iLEs2qUP2iF1"
      }
    },
    {
      "cell_type": "code",
      "source": [
        "plt.hist(B, bins=15);\n",
        "plt.hist(A, bins=15)"
      ],
      "metadata": {
        "id": "ztF9MoG43qjS",
        "outputId": "602052c0-1dbe-432f-d2e1-d7db4c95b897",
        "colab": {
          "base_uri": "https://localhost:8080/",
          "height": 387
        }
      },
      "execution_count": 20,
      "outputs": [
        {
          "output_type": "execute_result",
          "data": {
            "text/plain": [
              "(array([ 3.,  2.,  8., 13., 20., 23., 34., 39., 42., 33., 29., 17., 17.,\n",
              "        17.,  3.]),\n",
              " array([129.20022161, 134.05539648, 138.91057136, 143.76574623,\n",
              "        148.6209211 , 153.47609598, 158.33127085, 163.18644572,\n",
              "        168.0416206 , 172.89679547, 177.75197034, 182.60714521,\n",
              "        187.46232009, 192.31749496, 197.17266983, 202.02784471]),\n",
              " <a list of 15 Patch objects>)"
            ]
          },
          "metadata": {},
          "execution_count": 20
        },
        {
          "output_type": "display_data",
          "data": {
            "text/plain": [
              "<Figure size 432x288 with 1 Axes>"
            ],
            "image/png": "[encoded data removed]"
          },
          "metadata": {
            "needs_background": "light"
          }
        }
      ]
    },
    {
      "cell_type": "code",
      "source": [
        "plt.boxplot(A);\n",
        "plt.boxplot(B);"
      ],
      "metadata": {
        "colab": {
          "base_uri": "https://localhost:8080/",
          "height": 265
        },
        "id": "IptbncUNSr9L",
        "outputId": "94b7e2d4-d6db-44c4-8124-97a1a023ce49"
      },
      "execution_count": 21,
      "outputs": [
        {
          "output_type": "display_data",
          "data": {
            "text/plain": [
              "<Figure size 432x288 with 1 Axes>"
            ],
            "image/png": "[encoded data removed]"
          },
          "metadata": {
            "needs_background": "light"
          }
        }
      ]
    }
  ]
}