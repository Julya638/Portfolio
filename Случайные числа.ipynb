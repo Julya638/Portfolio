{
  "nbformat": 4,
  "nbformat_minor": 0,
  "metadata": {
    "colab": {
      "name": "Untitled23.ipynb",
      "provenance": []
    },
    "kernelspec": {
      "name": "python3",
      "display_name": "Python 3"
    },
    "language_info": {
      "name": "python"
    }
  },
  "cells": [
    {
      "cell_type": "markdown",
      "source": [
        "Смоделировать игру против лотерейного автомата типа \"777\". Игрок платит 1 руб, после чего выпадает случайное целое число, равномерно распределенное от 0 до 999.При некоторых значениях игрок получает выигрыш.\n",
        "777 - 200 руб\n",
        "999- 100 руб\n",
        "555 - 50 руб\n",
        "333 - 15 руб\n",
        "111 - 10 руб\n",
        "*77 - 5 руб\n",
        "**7 - 3 руб\n",
        "*00 - 2 руб\n",
        "**0 - 1 руб\n",
        "Вопросы: \n",
        "Выгодна ли игра игроку?\n",
        "Сколько в среднем приобретает или теряет игрок за одну игру?"
      ],
      "metadata": {
        "id": "DmMeDfrxPaSa"
      }
    },
    {
      "cell_type": "code",
      "execution_count": 37,
      "metadata": {
        "colab": {
          "base_uri": "https://localhost:8080/"
        },
        "id": "mIUehzO_LSK_",
        "outputId": "e0b789ab-b5c0-4a64-cd82-4b443cb69c73"
      },
      "outputs": [
        {
          "output_type": "stream",
          "name": "stdout",
          "text": [
            "вероятность выигрыша 0.2264\n",
            "сумма выигрыша 82652\n"
          ]
        }
      ],
      "source": [
        "import numpy as np\n",
        "pop=100000  #количество попыток \n",
        "win=0  # количество выигрышей (любая сумма)\n",
        "sum=0   #сумма выигрыша\n",
        "for i in range(pop):\n",
        "  num=np.random.randint(0,1000)  #генерируем случайным образом числа от 0 до 999\n",
        "  if num==999:\n",
        "    sum+=100\n",
        "    win+=1\n",
        "  if num==777:\n",
        "    sum+=200\n",
        "    win+=1\n",
        "  if num==555:\n",
        "    sum+=50\n",
        "    win+=1   \n",
        "  if num==333:\n",
        "    sum+=15\n",
        "    win+=1 \n",
        "  if num==111:\n",
        "    sum+=10\n",
        "    win+=1 \n",
        "  if num%100==77:\n",
        "    sum+=5\n",
        "    win+=1\n",
        "  if num%10==7:\n",
        "    sum+=3\n",
        "    win+=1\n",
        "  if num%100==0:\n",
        "    sum+=2\n",
        "    win+=1\n",
        "  if num%10==0:\n",
        "    sum+=1\n",
        "    win+=1\n",
        "monte_carlo=win/pop  #вероятность выигрыша\n",
        "print(f'вероятность выигрыша {monte_carlo}')\n",
        "print(f'сумма выигрыша {sum}')\n"
      ]
    },
    {
      "cell_type": "markdown",
      "source": [
        "Итог: по результатам моделирования вероятность выигрыша примерно 22%, \n",
        "сумма выигрыша меньше чем потраченная на игру сумма. Из этого делаю вывод что игра невыгодна игроку\n",
        "\n",
        "Можно рассчитать мат.ожидание(среднее значение) при 100000 попыток: \n",
        " "
      ],
      "metadata": {
        "id": "pQtkBgjESufK"
      }
    },
    {
      "cell_type": "code",
      "source": [
        "round(84099*0.22544+82335*0.22578+84482*0.22718+82652*0.2264, 2)  # мат ожидание"
      ],
      "metadata": {
        "colab": {
          "base_uri": "https://localhost:8080/"
        },
        "id": "K1ev46mThEWr",
        "outputId": "de100841-12d6-4dca-c54d-74c29f0ec9ed"
      },
      "execution_count": 39,
      "outputs": [
        {
          "output_type": "execute_result",
          "data": {
            "text/plain": [
              "75453.91"
            ]
          },
          "metadata": {},
          "execution_count": 39
        }
      ]
    }
  ]
}